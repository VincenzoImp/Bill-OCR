{
 "cells": [
  {
   "cell_type": "code",
   "execution_count": 333,
   "metadata": {},
   "outputs": [],
   "source": [
    "# sudo apt install tesseract-ocr-ita"
   ]
  },
  {
   "cell_type": "code",
   "execution_count": 334,
   "metadata": {},
   "outputs": [],
   "source": [
    "import cv2\n",
    "import pytesseract\n",
    "import json\n",
    "import easyocr\n",
    "import difflib\n",
    "import os"
   ]
  },
  {
   "cell_type": "code",
   "execution_count": 335,
   "metadata": {},
   "outputs": [],
   "source": [
    "def load_image(image_path):\n",
    "    image = cv2.imread(image_path)\n",
    "    return image"
   ]
  },
  {
   "cell_type": "code",
   "execution_count": 336,
   "metadata": {},
   "outputs": [],
   "source": [
    "def denoise(image):\n",
    "    image = cv2.fastNlMeansDenoisingColored(image,None,10,10,7,21)\n",
    "    return image"
   ]
  },
  {
   "cell_type": "code",
   "execution_count": 337,
   "metadata": {},
   "outputs": [],
   "source": [
    "def BGR2GRAY(image):\n",
    "    image = cv2.cvtColor(image, cv2.COLOR_BGR2GRAY)\n",
    "    return image"
   ]
  },
  {
   "cell_type": "code",
   "execution_count": 338,
   "metadata": {},
   "outputs": [],
   "source": [
    "def get_header(image):\n",
    "    header = image[0: int(image.shape[0]/3), :]\n",
    "    return header"
   ]
  },
  {
   "cell_type": "code",
   "execution_count": 339,
   "metadata": {},
   "outputs": [],
   "source": [
    "def get_body(image):\n",
    "    body = image[int(image.shape[0]/3):4*int(image.shape[0]/5), :]\n",
    "    return body"
   ]
  },
  {
   "cell_type": "code",
   "execution_count": 340,
   "metadata": {},
   "outputs": [],
   "source": [
    "def get_footer(image):\n",
    "    footer = image[4*int(image.shape[0]/5):, :]\n",
    "    return footer"
   ]
  },
  {
   "cell_type": "code",
   "execution_count": 341,
   "metadata": {},
   "outputs": [],
   "source": [
    "def save_image(image, image_path):\n",
    "    cv2.imwrite(image_path, image)\n",
    "    return"
   ]
  },
  {
   "cell_type": "code",
   "execution_count": 342,
   "metadata": {},
   "outputs": [],
   "source": [
    "def parse_header(image_header, image_data):\n",
    "    data = pytesseract.image_to_string(image_header)\n",
    "    data = data.strip().split('\\n')\n",
    "    l = ['nome', 'ragione_sociale', 'indirizzo', 'citta', 'info1', 'info2']\n",
    "    for key, value in zip(l, data):\n",
    "        image_data[key] = value.strip()\n",
    "    return"
   ]
  },
  {
   "cell_type": "code",
   "execution_count": 343,
   "metadata": {},
   "outputs": [],
   "source": [
    "def parse_body(image_body, image_data):\n",
    "\n",
    "    data1 = pytesseract.image_to_string(image_body)\n",
    "    data1 = data1.strip().split('\\n')\n",
    "    data1 = [row for row in data1 if row != '']\n",
    "\n",
    "    reader = easyocr.Reader(['it'])\n",
    "    result = reader.readtext(image_body, detail = 0)\n",
    "\n",
    "    data2 = []\n",
    "    s = ''\n",
    "    for item in result:\n",
    "        try:\n",
    "            price = float(item.replace(',', '.'))\n",
    "            data2.append((s.strip(), price))\n",
    "            s = ''\n",
    "        except:\n",
    "            s += item+' '\n",
    "\n",
    "    body = [(z, q[0], q[1]) for z, q in zip(data1, data2)]\n",
    "    totale = None\n",
    "    index_totale = None\n",
    "    for index, row in enumerate(body):\n",
    "        perc1, perc2 = 0, 0\n",
    "        for word in row[0].upper().split():\n",
    "            perc1 = max(difflib.SequenceMatcher(None, 'TOTALE',word[:6]).ratio()*100, perc1)\n",
    "        for word in row[1].upper().split():\n",
    "            perc2 = max(difflib.SequenceMatcher(None, 'TOTALE',word[:6]).ratio()*100, perc2)\n",
    "        if perc1 > 50 or perc2 > 50:\n",
    "            totale = row[2]\n",
    "            index_totale = index\n",
    "    image_data['totale'] = totale\n",
    "    if index_totale is not None:\n",
    "        image_data['prodotti'] = body[:index_totale]\n",
    "    else:\n",
    "        image_data['prodotti'] = body\n",
    "    return"
   ]
  },
  {
   "cell_type": "code",
   "execution_count": 344,
   "metadata": {},
   "outputs": [],
   "source": [
    "def parse_footer(image_footer, image_data):\n",
    "    reader = easyocr.Reader(['it'])\n",
    "    result = reader.readtext(image_footer, detail = 0)\n",
    "    date = None\n",
    "    time = None\n",
    "    for item in result:\n",
    "        if item.count('/') == 2 or item.count('-') == 2:\n",
    "            date = item.replace('-', '/')\n",
    "        if item.count(':') > 0:\n",
    "            time = item\n",
    "    image_data['date'] = date\n",
    "    image_data['time'] = time"
   ]
  },
  {
   "cell_type": "code",
   "execution_count": 345,
   "metadata": {},
   "outputs": [],
   "source": [
    "def save_image_data(image_data, image_data_path):\n",
    "    with open(image_data_path, 'w') as f:\n",
    "        json.dump(image_data, f, indent=4)\n",
    "    return"
   ]
  },
  {
   "cell_type": "code",
   "execution_count": 346,
   "metadata": {},
   "outputs": [],
   "source": [
    "def main(image_path):\n",
    "    image = load_image(image_path)\n",
    "    image = denoise(image)\n",
    "    image = BGR2GRAY(image)\n",
    "    image_header = get_header(image)\n",
    "    image_body = get_body(image)\n",
    "    image_footer = get_footer(image)\n",
    "    save_image(image_header, os.path.join(os.path.dirname(image_path), 'header.png'))\n",
    "    save_image(image_body, os.path.join(os.path.dirname(image_path), 'body.png'))\n",
    "    save_image(image_footer, os.path.join(os.path.dirname(image_path), 'footer.png'))\n",
    "    image_data = {}\n",
    "    parse_header(image_header, image_data)\n",
    "    parse_body(image_body, image_data)\n",
    "    parse_footer(image_footer, image_data)\n",
    "    save_image_data(image_data, os.path.join(os.path.dirname(image_path), 'image_data.json'))\n",
    "    return"
   ]
  },
  {
   "cell_type": "code",
   "execution_count": 347,
   "metadata": {},
   "outputs": [],
   "source": [
    "image_paths = [\n",
    "    'test1/Esempio scontrino - ristorante XYZ.png',\n",
    "    'test2/download.jpeg',\n",
    "    'test3/il-conto-a-comprova-dei.jpg'\n",
    "    ]\n",
    "for image_path in image_paths:\n",
    "    main(image_path)"
   ]
  }
 ],
 "metadata": {
  "kernelspec": {
   "display_name": "stable",
   "language": "python",
   "name": "python3"
  },
  "language_info": {
   "codemirror_mode": {
    "name": "ipython",
    "version": 3
   },
   "file_extension": ".py",
   "mimetype": "text/x-python",
   "name": "python",
   "nbconvert_exporter": "python",
   "pygments_lexer": "ipython3",
   "version": "3.9.16"
  },
  "orig_nbformat": 4
 },
 "nbformat": 4,
 "nbformat_minor": 2
}
